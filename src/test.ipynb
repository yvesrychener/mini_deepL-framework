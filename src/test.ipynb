{
 "cells": [
  {
   "cell_type": "code",
   "execution_count": 1,
   "metadata": {},
   "outputs": [],
   "source": [
    "import nn_module as n\n",
    "import math\n",
    "import torch\n",
    "from torch import Tensor"
   ]
  },
  {
   "cell_type": "code",
   "execution_count": 2,
   "metadata": {},
   "outputs": [],
   "source": [
    "def generate_disc_set(nb):\n",
    "    input = Tensor(nb, 2).uniform_(-1, 1)\n",
    "    target = input.pow(2).sum(1).sub(2 / math.pi).sign().add(1).div(2).view(nb,1)\n",
    "    return input, target"
   ]
  },
  {
   "cell_type": "code",
   "execution_count": 3,
   "metadata": {},
   "outputs": [],
   "source": [
    "train_input, train_target = generate_disc_set(1000)\n",
    "test_input, test_target = generate_disc_set(1000)"
   ]
  },
  {
   "cell_type": "code",
   "execution_count": 4,
   "metadata": {},
   "outputs": [],
   "source": [
    "%%capture\n",
    "mean, std = train_input.mean(), train_input.std()\n",
    "\n",
    "train_input.sub_(mean).div_(std)\n",
    "test_input.sub_(mean).div_(std)\n"
   ]
  },
  {
   "cell_type": "code",
   "execution_count": 5,
   "metadata": {},
   "outputs": [],
   "source": [
    "shallow_model = n.networks.sequential([\n",
    "    n.layers.fully_connected(2,128),\n",
    "    n.activations.relu(),\n",
    "    n.layers.fully_connected(128,1)\n",
    "])"
   ]
  },
  {
   "cell_type": "code",
   "execution_count": 6,
   "metadata": {},
   "outputs": [],
   "source": [
    "lossf = n.loss.MSE()\n",
    "optim = n.optimizers.SGD(shallow_model, lossf)"
   ]
  },
  {
   "cell_type": "code",
   "execution_count": 7,
   "metadata": {},
   "outputs": [
    {
     "data": {
      "text/plain": [
       "tensor(238.4619)"
      ]
     },
     "execution_count": 7,
     "metadata": {},
     "output_type": "execute_result"
    }
   ],
   "source": [
    "lossf.loss(shallow_model.forward(train_input), train_target)"
   ]
  },
  {
   "cell_type": "code",
   "execution_count": 8,
   "metadata": {
    "scrolled": true
   },
   "outputs": [
    {
     "name": "stdout",
     "output_type": "stream",
     "text": [
      "Epoch 0...\n",
      "tensor(238.4619)\n",
      "Epoch 1...\n",
      "tensor(7.2728)\n",
      "Epoch 2...\n",
      "tensor(1.7263)\n",
      "Epoch 3...\n",
      "tensor(1.4470)\n",
      "Epoch 4...\n",
      "tensor(1.3660)\n",
      "Epoch 5...\n",
      "tensor(1.3065)\n",
      "Epoch 6...\n",
      "tensor(1.2595)\n",
      "Epoch 7...\n",
      "tensor(1.2176)\n",
      "Epoch 8...\n",
      "tensor(1.1805)\n",
      "Epoch 9...\n",
      "tensor(1.1472)\n",
      "Epoch 10...\n",
      "tensor(1.1147)\n",
      "Epoch 11...\n",
      "tensor(1.0829)\n",
      "Epoch 12...\n",
      "tensor(1.0533)\n",
      "Epoch 13...\n",
      "tensor(1.0255)\n",
      "Epoch 14...\n",
      "tensor(0.9988)\n",
      "Epoch 15...\n",
      "tensor(0.9734)\n",
      "Epoch 16...\n",
      "tensor(0.9527)\n",
      "Epoch 17...\n",
      "tensor(0.9251)\n",
      "Epoch 18...\n",
      "tensor(0.9021)\n",
      "Epoch 19...\n",
      "tensor(0.8808)\n",
      "Epoch 20...\n",
      "tensor(0.8606)\n",
      "Epoch 21...\n",
      "tensor(0.8398)\n",
      "Epoch 22...\n",
      "tensor(0.8200)\n",
      "Epoch 23...\n",
      "tensor(0.8008)\n",
      "Epoch 24...\n",
      "tensor(0.7832)\n",
      "Epoch 25...\n",
      "tensor(0.7654)\n",
      "Epoch 26...\n",
      "tensor(0.7480)\n",
      "Epoch 27...\n",
      "tensor(0.7319)\n",
      "Epoch 28...\n",
      "tensor(0.7156)\n",
      "Epoch 29...\n",
      "tensor(0.7007)\n",
      "Epoch 30...\n",
      "tensor(0.6858)\n",
      "Epoch 31...\n",
      "tensor(0.6720)\n",
      "Epoch 32...\n",
      "tensor(0.6579)\n",
      "Epoch 33...\n",
      "tensor(0.6443)\n",
      "Epoch 34...\n",
      "tensor(0.6318)\n",
      "Epoch 35...\n",
      "tensor(0.6192)\n",
      "Epoch 36...\n",
      "tensor(0.6071)\n",
      "Epoch 37...\n",
      "tensor(0.5955)\n",
      "Epoch 38...\n",
      "tensor(0.5846)\n",
      "Epoch 39...\n",
      "tensor(0.5741)\n",
      "Epoch 40...\n",
      "tensor(0.5631)\n",
      "Epoch 41...\n",
      "tensor(0.5528)\n",
      "Epoch 42...\n",
      "tensor(0.5434)\n",
      "Epoch 43...\n",
      "tensor(0.5352)\n",
      "Epoch 44...\n",
      "tensor(0.5244)\n",
      "Epoch 45...\n",
      "tensor(0.5157)\n",
      "Epoch 46...\n",
      "tensor(0.5067)\n",
      "Epoch 47...\n",
      "tensor(0.4984)\n",
      "Epoch 48...\n",
      "tensor(0.4912)\n",
      "Epoch 49...\n",
      "tensor(0.4824)\n",
      "Epoch 50...\n",
      "tensor(0.4745)\n",
      "Epoch 51...\n",
      "tensor(0.4672)\n",
      "Epoch 52...\n",
      "tensor(0.4604)\n",
      "Epoch 53...\n",
      "tensor(0.4528)\n",
      "Epoch 54...\n",
      "tensor(0.4459)\n",
      "Epoch 55...\n",
      "tensor(0.4396)\n",
      "Epoch 56...\n",
      "tensor(0.4330)\n",
      "Epoch 57...\n",
      "tensor(0.4272)\n",
      "Epoch 58...\n",
      "tensor(0.4206)\n",
      "Epoch 59...\n",
      "tensor(0.4149)\n",
      "Epoch 60...\n",
      "tensor(0.4088)\n",
      "Epoch 61...\n",
      "tensor(0.4035)\n",
      "Epoch 62...\n",
      "tensor(0.3986)\n",
      "Epoch 63...\n",
      "tensor(0.3926)\n",
      "Epoch 64...\n",
      "tensor(0.3874)\n",
      "Epoch 65...\n",
      "tensor(0.3824)\n",
      "Epoch 66...\n",
      "tensor(0.3782)\n",
      "Epoch 67...\n",
      "tensor(0.3730)\n",
      "Epoch 68...\n",
      "tensor(0.3679)\n",
      "Epoch 69...\n",
      "tensor(0.3634)\n",
      "Epoch 70...\n",
      "tensor(0.3590)\n",
      "Epoch 71...\n",
      "tensor(0.3544)\n",
      "Epoch 72...\n",
      "tensor(0.3503)\n",
      "Epoch 73...\n",
      "tensor(0.3463)\n",
      "Epoch 74...\n",
      "tensor(0.3428)\n",
      "Epoch 75...\n",
      "tensor(0.3386)\n",
      "Epoch 76...\n",
      "tensor(0.3343)\n",
      "Epoch 77...\n",
      "tensor(0.3304)\n",
      "Epoch 78...\n",
      "tensor(0.3267)\n",
      "Epoch 79...\n",
      "tensor(0.3231)\n",
      "Epoch 80...\n",
      "tensor(0.3195)\n",
      "Epoch 81...\n",
      "tensor(0.3166)\n",
      "Epoch 82...\n",
      "tensor(0.3127)\n",
      "Epoch 83...\n",
      "tensor(0.3099)\n",
      "Epoch 84...\n",
      "tensor(0.3069)\n",
      "Epoch 85...\n",
      "tensor(0.3028)\n",
      "Epoch 86...\n",
      "tensor(0.2997)\n",
      "Epoch 87...\n",
      "tensor(0.2975)\n",
      "Epoch 88...\n",
      "tensor(0.2940)\n",
      "Epoch 89...\n",
      "tensor(0.2906)\n",
      "Epoch 90...\n",
      "tensor(0.2881)\n",
      "Epoch 91...\n",
      "tensor(0.2849)\n",
      "Epoch 92...\n",
      "tensor(0.2821)\n",
      "Epoch 93...\n",
      "tensor(0.2797)\n",
      "Epoch 94...\n",
      "tensor(0.2770)\n",
      "Epoch 95...\n",
      "tensor(0.2741)\n",
      "Epoch 96...\n",
      "tensor(0.2717)\n",
      "Epoch 97...\n",
      "tensor(0.2695)\n",
      "Epoch 98...\n",
      "tensor(0.2666)\n",
      "Epoch 99...\n",
      "tensor(0.2649)\n"
     ]
    }
   ],
   "source": [
    "optim.train(train_input, train_target, 100, 1e-5)"
   ]
  },
  {
   "cell_type": "code",
   "execution_count": 9,
   "metadata": {},
   "outputs": [
    {
     "data": {
      "text/plain": [
       "tensor(0.2617)"
      ]
     },
     "execution_count": 9,
     "metadata": {},
     "output_type": "execute_result"
    }
   ],
   "source": [
    "lossf.loss(shallow_model.forward(train_input), train_target)"
   ]
  },
  {
   "cell_type": "code",
   "execution_count": 10,
   "metadata": {},
   "outputs": [
    {
     "data": {
      "text/plain": [
       "tensor(0.2941)"
      ]
     },
     "execution_count": 10,
     "metadata": {},
     "output_type": "execute_result"
    }
   ],
   "source": [
    "lossf.loss(shallow_model.forward(test_input), test_target)"
   ]
  },
  {
   "cell_type": "code",
   "execution_count": null,
   "metadata": {},
   "outputs": [],
   "source": []
  }
 ],
 "metadata": {
  "kernelspec": {
   "display_name": "Python 3",
   "language": "python",
   "name": "python3"
  },
  "language_info": {
   "codemirror_mode": {
    "name": "ipython",
    "version": 3
   },
   "file_extension": ".py",
   "mimetype": "text/x-python",
   "name": "python",
   "nbconvert_exporter": "python",
   "pygments_lexer": "ipython3",
   "version": "3.7.2"
  }
 },
 "nbformat": 4,
 "nbformat_minor": 2
}
