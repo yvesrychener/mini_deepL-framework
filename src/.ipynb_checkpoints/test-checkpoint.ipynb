{
 "cells": [
  {
   "cell_type": "code",
   "execution_count": 1,
   "metadata": {},
   "outputs": [],
   "source": [
    "import nn_module as n\n",
    "import math\n",
    "import torch\n",
    "from torch import Tensor\n",
    "import matplotlib.pyplot as plt"
   ]
  },
  {
   "cell_type": "code",
   "execution_count": 2,
   "metadata": {},
   "outputs": [],
   "source": [
    "def generate_disc_set(nb):\n",
    "    input = Tensor(nb, 2).uniform_(-1, 1)\n",
    "    target = input.pow(2).sum(1).sub(2 / math.pi).sign().add(1).div(2).view(nb,1)\n",
    "    return input, target"
   ]
  },
  {
   "cell_type": "code",
   "execution_count": 3,
   "metadata": {},
   "outputs": [],
   "source": [
    "train_input, train_target = generate_disc_set(1000)\n",
    "test_input, test_target = generate_disc_set(1000)"
   ]
  },
  {
   "cell_type": "code",
   "execution_count": 4,
   "metadata": {},
   "outputs": [],
   "source": [
    "%%capture\n",
    "mean, std = train_input.mean(), train_input.std()\n",
    "\n",
    "train_input.sub_(mean).div_(std)\n",
    "test_input.sub_(mean).div_(std)\n"
   ]
  },
  {
   "cell_type": "code",
   "execution_count": 5,
   "metadata": {},
   "outputs": [],
   "source": [
    "shallow_model = n.networks.sequential([\n",
    "    n.layers.fully_connected(2,128),\n",
    "    n.activations.relu(),\n",
    "    n.layers.fully_connected(128,1)\n",
    "])"
   ]
  },
  {
   "cell_type": "code",
   "execution_count": 6,
   "metadata": {},
   "outputs": [],
   "source": [
    "lossf = n.loss.MSE()\n",
    "optim = n.optimizers.SGD(shallow_model, lossf)"
   ]
  },
  {
   "cell_type": "code",
   "execution_count": 7,
   "metadata": {},
   "outputs": [
    {
     "data": {
      "text/plain": [
       "tensor(0.5113)"
      ]
     },
     "execution_count": 7,
     "metadata": {},
     "output_type": "execute_result"
    }
   ],
   "source": [
    "lossf.loss(shallow_model.forward(train_input), train_target)"
   ]
  },
  {
   "cell_type": "code",
   "execution_count": 8,
   "metadata": {
    "scrolled": true
   },
   "outputs": [
    {
     "name": "stdout",
     "output_type": "stream",
     "text": [
      "Epoch 0...\n",
      "tensor(0.5113)\n",
      "Epoch 1...\n",
      "tensor(0.0956)\n",
      "Epoch 2...\n",
      "tensor(0.0772)\n",
      "Epoch 3...\n",
      "tensor(0.0811)\n",
      "Epoch 4...\n",
      "tensor(0.0781)\n",
      "Epoch 5...\n",
      "tensor(0.0732)\n",
      "Epoch 6...\n",
      "tensor(0.0696)\n",
      "Epoch 7...\n",
      "tensor(0.0689)\n",
      "Epoch 8...\n",
      "tensor(0.0658)\n",
      "Epoch 9...\n",
      "tensor(0.0684)\n",
      "Epoch 10...\n",
      "tensor(0.0641)\n",
      "Epoch 11...\n",
      "tensor(0.0647)\n",
      "Epoch 12...\n",
      "tensor(0.0624)\n",
      "Epoch 13...\n",
      "tensor(0.0654)\n",
      "Epoch 14...\n",
      "tensor(0.0606)\n",
      "Epoch 15...\n",
      "tensor(0.0607)\n",
      "Epoch 16...\n",
      "tensor(0.0623)\n",
      "Epoch 17...\n",
      "tensor(0.0612)\n",
      "Epoch 18...\n",
      "tensor(0.0720)\n",
      "Epoch 19...\n",
      "tensor(0.0596)\n"
     ]
    }
   ],
   "source": [
    "optim.train(train_input, train_target, 20, 1e-2)"
   ]
  },
  {
   "cell_type": "code",
   "execution_count": 9,
   "metadata": {},
   "outputs": [
    {
     "data": {
      "text/plain": [
       "tensor(0.0610)"
      ]
     },
     "execution_count": 9,
     "metadata": {},
     "output_type": "execute_result"
    }
   ],
   "source": [
    "lossf.loss(shallow_model.forward(train_input), train_target)"
   ]
  },
  {
   "cell_type": "code",
   "execution_count": 10,
   "metadata": {},
   "outputs": [
    {
     "data": {
      "text/plain": [
       "tensor(0.0655)"
      ]
     },
     "execution_count": 10,
     "metadata": {},
     "output_type": "execute_result"
    }
   ],
   "source": [
    "lossf.loss(shallow_model.forward(test_input), test_target)"
   ]
  },
  {
   "cell_type": "code",
   "execution_count": 11,
   "metadata": {},
   "outputs": [
    {
     "data": {
      "text/plain": [
       "{'layer0': {'bias': tensor([[-0.1236, -0.0935, -0.0022, -0.1255,  0.0104, -0.0221, -0.1552, -0.0152,\n",
       "           -0.0123, -0.0124, -0.1606, -0.0074, -0.1506, -0.1042, -0.0818, -0.0540,\n",
       "           -0.0047, -0.2093,  0.0023,  0.0135,  0.0613, -0.0881, -0.0476, -0.0187,\n",
       "           -0.1921, -0.1818, -0.2835, -0.0069, -0.0149, -0.1109, -0.2356, -0.2366,\n",
       "           -0.2608, -0.0334, -0.2851, -0.0022, -0.0414, -0.1219, -0.0016, -0.0686,\n",
       "           -0.0657, -0.0104, -0.0542, -0.1847, -0.0715, -0.1277, -0.0088, -0.2221,\n",
       "           -0.0493,  0.0024, -0.0022, -0.0344, -0.0317, -0.0027,  0.0040,  0.0431,\n",
       "           -0.2042, -0.1986, -0.1216, -0.1293, -0.2902, -0.0238, -0.0778,  0.0084,\n",
       "           -0.3538, -0.0166, -0.0427, -0.0115, -0.1931, -0.1411, -0.0207, -0.0642,\n",
       "           -0.2378, -0.0151, -0.0089, -0.1992, -0.1499, -0.0069, -0.0032, -0.0290,\n",
       "           -0.0075, -0.0060,  0.0004,  0.0037, -0.2334, -0.1290, -0.2713,  0.0035,\n",
       "           -0.0796, -0.2635, -0.2469, -0.0364, -0.1346, -0.0105, -0.0184, -0.0248,\n",
       "           -0.1054, -0.0063, -0.1001, -0.1695, -0.0398, -0.0115, -0.0089, -0.0173,\n",
       "            0.0076,  0.0013, -0.2581, -0.2084, -0.3165, -0.1405, -0.0090, -0.0189,\n",
       "            0.0054, -0.0714, -0.0622, -0.0424, -0.0831, -0.0116, -0.0561, -0.0865,\n",
       "            0.0497, -0.0594, -0.0739, -0.1052, -0.2069, -0.1949,  0.0092, -0.0783]]),\n",
       "  'weights': tensor([[ 5.2835e-02, -1.1619e-01,  1.4401e-01, -1.4855e-01,  1.3334e-02,\n",
       "            2.3337e-03,  2.3033e-01,  2.4471e-02, -1.0047e-01,  2.3288e-02,\n",
       "           -1.1993e-01, -8.5026e-03, -1.0301e-01, -4.7700e-02, -2.0050e-01,\n",
       "           -1.5055e-01, -4.5286e-02,  1.5879e-01, -1.0066e-01,  1.2332e-05,\n",
       "            2.4906e-02,  6.6254e-02,  9.6848e-02, -1.0543e-01,  2.1258e-01,\n",
       "           -1.3748e-01,  2.3559e-01,  1.7987e-01,  2.0031e-02, -1.9671e-01,\n",
       "           -1.2371e-01,  2.5988e-01, -3.2854e-01, -4.1470e-02, -3.4620e-01,\n",
       "            1.7037e-01,  2.0351e-02, -1.1483e-01,  1.1190e-01, -1.7178e-01,\n",
       "           -2.9849e-02, -2.9377e-03,  2.2637e-01,  1.3965e-01, -1.0475e-01,\n",
       "            1.7670e-01, -3.1408e-06, -9.0674e-02,  6.4684e-02, -1.0291e-01,\n",
       "            9.7353e-02, -4.3419e-02,  6.1509e-02,  1.1194e-02, -3.4025e-02,\n",
       "           -1.8366e-02,  1.5315e-01, -2.4227e-01,  1.7389e-01, -5.8693e-02,\n",
       "           -3.2597e-01,  3.3068e-02, -5.7674e-02,  1.3533e-02,  3.8577e-01,\n",
       "           -1.3973e-01,  1.5289e-01, -7.2393e-02,  2.3201e-01,  2.1160e-01,\n",
       "           -7.1631e-02, -1.6575e-01, -1.7707e-01,  1.2142e-01,  8.4324e-02,\n",
       "           -2.1691e-02,  1.1506e-01, -5.7606e-02, -3.1360e-02, -1.4469e-01,\n",
       "           -1.0994e-02, -6.7760e-02,  7.4180e-02,  2.2262e-02, -1.7476e-01,\n",
       "            1.9479e-01, -1.3727e-01, -1.1504e-01,  7.5485e-02, -2.8940e-01,\n",
       "           -1.2481e-01,  1.1696e-01,  1.6680e-01,  7.4068e-02, -1.5054e-01,\n",
       "           -1.4421e-01, -7.8869e-02,  6.5199e-03, -7.5940e-02,  1.9004e-01,\n",
       "            1.2549e-01, -9.6729e-02, -3.5435e-03,  6.9443e-02,  1.3788e-02,\n",
       "           -7.5595e-02,  2.7913e-01, -2.5781e-01, -2.4360e-01,  1.8514e-01,\n",
       "            3.4008e-03, -7.9110e-03,  3.5068e-02, -1.9402e-01,  1.1796e-01,\n",
       "           -3.3133e-03, -3.8276e-02,  3.4371e-02, -1.4898e-01,  3.7070e-02,\n",
       "            2.2596e-02,  8.5177e-03, -1.2770e-01,  3.3178e-01,  1.9703e-01,\n",
       "            2.0994e-01,  3.9034e-03,  1.5564e-01],\n",
       "          [-6.1663e-02,  6.4437e-02,  3.6877e-02,  8.2163e-02,  1.9009e-01,\n",
       "           -2.2643e-01, -2.5049e-01,  1.6457e-01, -2.2619e-02,  1.0020e-01,\n",
       "            1.9315e-01,  6.2005e-02, -1.6338e-01,  5.3037e-02,  4.2607e-02,\n",
       "           -1.5307e-01, -1.1824e-01,  2.7178e-01, -9.8322e-02,  1.4723e-01,\n",
       "            3.0728e-02,  1.1377e-01, -9.9606e-02, -2.9611e-03, -9.5411e-02,\n",
       "            2.2045e-01, -2.7225e-01, -4.2776e-02, -1.6018e-01, -1.6078e-01,\n",
       "           -2.5529e-01,  1.3153e-01,  1.9872e-01,  2.2189e-02,  1.8841e-01,\n",
       "           -9.9743e-03,  2.0057e-02,  1.6685e-01, -8.6773e-03,  1.5804e-01,\n",
       "            3.4161e-02,  5.4204e-02,  2.4118e-01,  2.3946e-01, -2.3027e-01,\n",
       "           -1.2118e-01, -1.5987e-02, -1.0669e-01, -4.7392e-02, -9.8948e-02,\n",
       "            8.9905e-03,  2.3494e-02,  2.6586e-01, -3.1427e-02, -1.2234e-01,\n",
       "            1.9751e-02,  2.6282e-01,  1.3706e-01, -2.0580e-01,  6.7171e-02,\n",
       "           -1.6114e-01,  2.1062e-01, -8.7565e-02, -9.4577e-02,  1.9892e-01,\n",
       "           -5.7561e-03,  1.6505e-01, -1.9049e-01, -1.8243e-01, -2.2896e-01,\n",
       "            6.3151e-02, -1.6415e-01, -2.8671e-01, -1.6740e-01, -5.2394e-02,\n",
       "           -3.2098e-01,  1.9607e-01, -6.0874e-02, -7.9221e-03, -3.9390e-04,\n",
       "            6.5676e-02, -1.9501e-02,  1.5164e-02, -1.1640e-01,  2.8409e-01,\n",
       "           -2.0956e-01, -2.7222e-01, -1.1265e-01,  1.3819e-01, -1.5302e-01,\n",
       "           -2.4102e-01, -2.3236e-01,  8.8015e-02, -1.1521e-01, -2.4797e-02,\n",
       "           -9.6722e-02, -1.2694e-01,  1.3129e-01,  1.1388e-01,  5.4765e-02,\n",
       "            1.4032e-01, -2.2307e-02,  4.9740e-02,  7.3710e-02, -8.8877e-02,\n",
       "           -7.4463e-02, -1.3288e-01,  1.3804e-01,  3.8753e-01, -1.3359e-01,\n",
       "            4.4290e-04,  1.0730e-01, -1.6900e-01, -1.9677e-01, -1.1031e-01,\n",
       "           -7.0138e-02,  4.2455e-02, -1.0224e-01, -1.5090e-01, -4.3446e-02,\n",
       "           -2.7810e-02, -2.7824e-02,  9.4334e-02, -2.6987e-01,  3.1238e-01,\n",
       "           -9.8485e-02, -5.8213e-02, -1.5478e-01]])},\n",
       " 'layer1': {'bias': tensor([[-0.1083]]), 'weights': tensor([[-0.2954],\n",
       "          [ 0.1140],\n",
       "          [-0.0705],\n",
       "          [ 0.1430],\n",
       "          [ 0.0682],\n",
       "          [-0.0261],\n",
       "          [ 0.2468],\n",
       "          [ 0.0883],\n",
       "          [-0.0804],\n",
       "          [-0.0321],\n",
       "          [ 0.2104],\n",
       "          [-0.0308],\n",
       "          [ 0.2148],\n",
       "          [-0.2045],\n",
       "          [ 0.0350],\n",
       "          [ 0.1311],\n",
       "          [-0.0310],\n",
       "          [ 0.3353],\n",
       "          [ 0.0643],\n",
       "          [ 0.0275],\n",
       "          [-0.0828],\n",
       "          [ 0.1613],\n",
       "          [ 0.0821],\n",
       "          [-0.0043],\n",
       "          [ 0.2006],\n",
       "          [ 0.2995],\n",
       "          [ 0.4160],\n",
       "          [-0.0712],\n",
       "          [-0.0234],\n",
       "          [ 0.2094],\n",
       "          [ 0.2567],\n",
       "          [ 0.2671],\n",
       "          [ 0.3754],\n",
       "          [ 0.0534],\n",
       "          [ 0.4204],\n",
       "          [-0.0859],\n",
       "          [-0.0792],\n",
       "          [ 0.0977],\n",
       "          [-0.0567],\n",
       "          [ 0.1665],\n",
       "          [-0.1137],\n",
       "          [-0.0860],\n",
       "          [ 0.2190],\n",
       "          [ 0.3063],\n",
       "          [ 0.0341],\n",
       "          [ 0.1472],\n",
       "          [ 0.0099],\n",
       "          [-0.3838],\n",
       "          [ 0.0961],\n",
       "          [ 0.0972],\n",
       "          [-0.1417],\n",
       "          [ 0.0346],\n",
       "          [-0.0525],\n",
       "          [-0.0146],\n",
       "          [-0.0493],\n",
       "          [-0.0603],\n",
       "          [ 0.3379],\n",
       "          [ 0.2930],\n",
       "          [ 0.2343],\n",
       "          [-0.2195],\n",
       "          [ 0.4268],\n",
       "          [ 0.1064],\n",
       "          [ 0.1083],\n",
       "          [-0.1212],\n",
       "          [ 0.4896],\n",
       "          [-0.0434],\n",
       "          [ 0.1549],\n",
       "          [-0.0341],\n",
       "          [ 0.3772],\n",
       "          [ 0.2514],\n",
       "          [ 0.0587],\n",
       "          [ 0.2017],\n",
       "          [ 0.2923],\n",
       "          [-0.0110],\n",
       "          [ 0.0024],\n",
       "          [ 0.2525],\n",
       "          [ 0.1870],\n",
       "          [ 0.0297],\n",
       "          [-0.0127],\n",
       "          [ 0.0039],\n",
       "          [-0.0370],\n",
       "          [-0.0232],\n",
       "          [-0.0614],\n",
       "          [-0.1154],\n",
       "          [ 0.3422],\n",
       "          [ 0.2137],\n",
       "          [ 0.3640],\n",
       "          [ 0.0780],\n",
       "          [ 0.0719],\n",
       "          [ 0.3673],\n",
       "          [ 0.4086],\n",
       "          [-0.0106],\n",
       "          [ 0.1278],\n",
       "          [-0.0142],\n",
       "          [-0.0471],\n",
       "          [-0.0050],\n",
       "          [ 0.1166],\n",
       "          [-0.0029],\n",
       "          [ 0.1410],\n",
       "          [ 0.2376],\n",
       "          [ 0.1226],\n",
       "          [-0.1031],\n",
       "          [-0.0670],\n",
       "          [ 0.0454],\n",
       "          [-0.0567],\n",
       "          [ 0.0468],\n",
       "          [ 0.2814],\n",
       "          [ 0.3253],\n",
       "          [ 0.4559],\n",
       "          [ 0.2089],\n",
       "          [-0.2430],\n",
       "          [-0.1322],\n",
       "          [-0.0965],\n",
       "          [ 0.1867],\n",
       "          [ 0.1356],\n",
       "          [ 0.0506],\n",
       "          [-0.1445],\n",
       "          [-0.0494],\n",
       "          [ 0.1445],\n",
       "          [-0.1729],\n",
       "          [-0.0898],\n",
       "          [-0.3176],\n",
       "          [ 0.0728],\n",
       "          [ 0.2533],\n",
       "          [ 0.3586],\n",
       "          [ 0.2725],\n",
       "          [-0.1177],\n",
       "          [ 0.1199]])}}"
      ]
     },
     "execution_count": 11,
     "metadata": {},
     "output_type": "execute_result"
    }
   ],
   "source": [
    "shallow_model.param()"
   ]
  },
  {
   "cell_type": "code",
   "execution_count": 12,
   "metadata": {},
   "outputs": [
    {
     "data": {
      "image/png": "[encoded data removed]",
      "text/plain": [
       "<Figure size 1008x360 with 2 Axes>"
      ]
     },
     "metadata": {
      "needs_background": "light"
     },
     "output_type": "display_data"
    }
   ],
   "source": [
    "def plot_result(points, labels, title = None, ax = plt):\n",
    "    '''\n",
    "    plot the points with their labels\n",
    "    '''\n",
    "    # use labels==labels+1 to create zero bytes\n",
    "    mask1x = torch.cat((labels==1, labels==labels+1), 1)\n",
    "    mask1y = torch.cat((labels==labels+1, labels==1), 1)\n",
    "    mask0x = torch.cat((labels==0, labels==labels+1), 1)\n",
    "    mask0y = torch.cat((labels==labels+1, labels==0), 1)\n",
    "    ax.scatter(points[mask1x], points[mask1y], label = '1')\n",
    "    ax.scatter(points[mask0x], points[mask0y], label = '0')\n",
    "    ax.legend()\n",
    "    if ax==plt:\n",
    "        plt.title(title)\n",
    "    else:\n",
    "        ax.set_title(title)\n",
    "\n",
    "# we use a thresholding at 0.5\n",
    "f, (ax1, ax2) = plt.subplots(1,2, figsize= (14,5))\n",
    "plot_result(test_input, test_target, title= 'True', ax = ax1)\n",
    "plot_result(test_input, shallow_model.forward(test_input)>0.5, title= 'Prediction', ax = ax2)"
   ]
  }
 ],
 "metadata": {
  "kernelspec": {
   "display_name": "Python 3",
   "language": "python",
   "name": "python3"
  },
  "language_info": {
   "codemirror_mode": {
    "name": "ipython",
    "version": 3
   },
   "file_extension": ".py",
   "mimetype": "text/x-python",
   "name": "python",
   "nbconvert_exporter": "python",
   "pygments_lexer": "ipython3",
   "version": "3.7.2"
  }
 },
 "nbformat": 4,
 "nbformat_minor": 2
}
